{
 "cells": [
  {
   "cell_type": "code",
   "execution_count": 4,
   "id": "5e116b23",
   "metadata": {},
   "outputs": [
    {
     "name": "stdout",
     "output_type": "stream",
     "text": [
      "Looking in indexes: https://pypi.org/simple, https://pip.repos.neuron.amazonaws.com\n",
      "Requirement already satisfied: numpy in /home/ec2-user/anaconda3/envs/pytorch_p310/lib/python3.10/site-packages (1.25.2)\n",
      "Looking in indexes: https://pypi.org/simple, https://pip.repos.neuron.amazonaws.com\n",
      "Requirement already satisfied: numexpr in /home/ec2-user/anaconda3/envs/pytorch_p310/lib/python3.10/site-packages (2.8.5)\n",
      "Requirement already satisfied: numpy>=1.13.3 in /home/ec2-user/anaconda3/envs/pytorch_p310/lib/python3.10/site-packages (from numexpr) (1.25.2)\n",
      "Looking in indexes: https://pypi.org/simple, https://pip.repos.neuron.amazonaws.com\n",
      "Requirement already satisfied: unstructured in /home/ec2-user/anaconda3/envs/pytorch_p310/lib/python3.10/site-packages (0.10.4)\n",
      "Requirement already satisfied: chardet in /home/ec2-user/anaconda3/envs/pytorch_p310/lib/python3.10/site-packages (from unstructured) (5.2.0)\n",
      "Requirement already satisfied: filetype in /home/ec2-user/anaconda3/envs/pytorch_p310/lib/python3.10/site-packages (from unstructured) (1.2.0)\n",
      "Requirement already satisfied: python-magic in /home/ec2-user/anaconda3/envs/pytorch_p310/lib/python3.10/site-packages (from unstructured) (0.4.27)\n",
      "Requirement already satisfied: lxml in /home/ec2-user/anaconda3/envs/pytorch_p310/lib/python3.10/site-packages (from unstructured) (4.9.3)\n",
      "Requirement already satisfied: nltk in /home/ec2-user/anaconda3/envs/pytorch_p310/lib/python3.10/site-packages (from unstructured) (3.8.1)\n",
      "Requirement already satisfied: tabulate in /home/ec2-user/anaconda3/envs/pytorch_p310/lib/python3.10/site-packages (from unstructured) (0.9.0)\n",
      "Requirement already satisfied: requests in /home/ec2-user/anaconda3/envs/pytorch_p310/lib/python3.10/site-packages (from unstructured) (2.29.0)\n",
      "Requirement already satisfied: beautifulsoup4 in /home/ec2-user/anaconda3/envs/pytorch_p310/lib/python3.10/site-packages (from unstructured) (4.12.2)\n",
      "Requirement already satisfied: emoji in /home/ec2-user/anaconda3/envs/pytorch_p310/lib/python3.10/site-packages (from unstructured) (2.8.0)\n",
      "Requirement already satisfied: soupsieve>1.2 in /home/ec2-user/anaconda3/envs/pytorch_p310/lib/python3.10/site-packages (from beautifulsoup4->unstructured) (2.3.2.post1)\n",
      "Requirement already satisfied: click in /home/ec2-user/anaconda3/envs/pytorch_p310/lib/python3.10/site-packages (from nltk->unstructured) (8.1.3)\n",
      "Requirement already satisfied: joblib in /home/ec2-user/anaconda3/envs/pytorch_p310/lib/python3.10/site-packages (from nltk->unstructured) (1.2.0)\n",
      "Requirement already satisfied: regex>=2021.8.3 in /home/ec2-user/anaconda3/envs/pytorch_p310/lib/python3.10/site-packages (from nltk->unstructured) (2023.8.8)\n",
      "Requirement already satisfied: tqdm in /home/ec2-user/anaconda3/envs/pytorch_p310/lib/python3.10/site-packages (from nltk->unstructured) (4.65.0)\n",
      "Requirement already satisfied: charset-normalizer<4,>=2 in /home/ec2-user/anaconda3/envs/pytorch_p310/lib/python3.10/site-packages (from requests->unstructured) (3.1.0)\n",
      "Requirement already satisfied: idna<4,>=2.5 in /home/ec2-user/anaconda3/envs/pytorch_p310/lib/python3.10/site-packages (from requests->unstructured) (3.4)\n",
      "Requirement already satisfied: urllib3<1.27,>=1.21.1 in /home/ec2-user/anaconda3/envs/pytorch_p310/lib/python3.10/site-packages (from requests->unstructured) (1.26.14)\n",
      "Requirement already satisfied: certifi>=2017.4.17 in /home/ec2-user/anaconda3/envs/pytorch_p310/lib/python3.10/site-packages (from requests->unstructured) (2023.5.7)\n",
      "Looking in indexes: https://pypi.org/simple, https://pip.repos.neuron.amazonaws.com\n",
      "Requirement already satisfied: python-pptx in /home/ec2-user/anaconda3/envs/pytorch_p310/lib/python3.10/site-packages (0.6.21)\n",
      "Requirement already satisfied: lxml>=3.1.0 in /home/ec2-user/anaconda3/envs/pytorch_p310/lib/python3.10/site-packages (from python-pptx) (4.9.3)\n",
      "Requirement already satisfied: Pillow>=3.3.2 in /home/ec2-user/anaconda3/envs/pytorch_p310/lib/python3.10/site-packages (from python-pptx) (9.5.0)\n",
      "Requirement already satisfied: XlsxWriter>=0.5.7 in /home/ec2-user/anaconda3/envs/pytorch_p310/lib/python3.10/site-packages (from python-pptx) (3.1.2)\n",
      "Looking in indexes: https://pypi.org/simple, https://pip.repos.neuron.amazonaws.com\n",
      "Collecting tiktoken\n",
      "  Downloading tiktoken-0.4.0-cp310-cp310-manylinux_2_17_x86_64.manylinux2014_x86_64.whl (1.7 MB)\n",
      "\u001b[2K     \u001b[90m━━━━━━━━━━━━━━━━━━━━━━━━━━━━━━━━━━━━━━━━\u001b[0m \u001b[32m1.7/1.7 MB\u001b[0m \u001b[31m65.8 MB/s\u001b[0m eta \u001b[36m0:00:00\u001b[0m\n",
      "\u001b[?25hRequirement already satisfied: regex>=2022.1.18 in /home/ec2-user/anaconda3/envs/pytorch_p310/lib/python3.10/site-packages (from tiktoken) (2023.8.8)\n",
      "Requirement already satisfied: requests>=2.26.0 in /home/ec2-user/anaconda3/envs/pytorch_p310/lib/python3.10/site-packages (from tiktoken) (2.29.0)\n",
      "Requirement already satisfied: charset-normalizer<4,>=2 in /home/ec2-user/anaconda3/envs/pytorch_p310/lib/python3.10/site-packages (from requests>=2.26.0->tiktoken) (3.1.0)\n",
      "Requirement already satisfied: idna<4,>=2.5 in /home/ec2-user/anaconda3/envs/pytorch_p310/lib/python3.10/site-packages (from requests>=2.26.0->tiktoken) (3.4)\n",
      "Requirement already satisfied: urllib3<1.27,>=1.21.1 in /home/ec2-user/anaconda3/envs/pytorch_p310/lib/python3.10/site-packages (from requests>=2.26.0->tiktoken) (1.26.14)\n",
      "Requirement already satisfied: certifi>=2017.4.17 in /home/ec2-user/anaconda3/envs/pytorch_p310/lib/python3.10/site-packages (from requests>=2.26.0->tiktoken) (2023.5.7)\n",
      "Installing collected packages: tiktoken\n",
      "Successfully installed tiktoken-0.4.0\n"
     ]
    }
   ],
   "source": [
    "!pip install --upgrade numpy\n",
    "!pip install --upgrade numexpr\n",
    "!pip install unstructured\n",
    "!pip install python-pptx\n",
    "!pip install tiktoken"
   ]
  },
  {
   "cell_type": "code",
   "execution_count": 1,
   "id": "94688a8b",
   "metadata": {},
   "outputs": [],
   "source": [
    "import os\n",
    "import json\n",
    "import traceback\n",
    "import urllib.parse\n",
    "import boto3\n",
    "from datetime import datetime\n",
    "import time\n",
    "from smart_search_dataload import SmartSearchDataload"
   ]
  },
  {
   "cell_type": "code",
   "execution_count": 2,
   "id": "d6932c6c",
   "metadata": {},
   "outputs": [
    {
     "name": "stdout",
     "output_type": "stream",
     "text": [
      "host: search-smartsearch-soghr3slgoubn2356ox22gitoy.us-west-1.es.amazonaws.com\n",
      "region: us-west-1\n"
     ]
    }
   ],
   "source": [
    "#根据时间情况修改index和language值\n",
    "# EMBEDDING_ENDPOINT_NAME = \"huggingface-inference-eb\"\n",
    "\n",
    "# index =  \"smart_search_qa_test_0826_cn\"\n",
    "# language = \"chinese\"\n",
    "# EMBEDDING_ENDPOINT_NAME = \"huggingface-inference-eb-bge-zh\"\n",
    "\n",
    "index =  \"smart_search_qa_test_0826_en_3\"\n",
    "language = \"english\"\n",
    "EMBEDDING_ENDPOINT_NAME = \"huggingface-inference-eb-bge-en\"\n",
    "\n",
    "port = 443\n",
    "bulk_size = 10000000\n",
    "\n",
    "\n",
    "sm_client = boto3.client('secretsmanager')\n",
    "master_user = sm_client.get_secret_value(SecretId='opensearch-host-url')['SecretString']\n",
    "data= json.loads(master_user)\n",
    "es_host_name = data.get('host')\n",
    "host = es_host_name+'/' if es_host_name[-1] != '/' else es_host_name# cluster endpoint, for example: my-test-domain.us-east-1.es.amazonaws.com/\n",
    "host = host[8:-1]\n",
    "region = boto3.Session().region_name # e.g. cn-north-1\n",
    "print('host:',host)\n",
    "print('region:',region)\n",
    "\n",
    "# retrieve secret manager value by key using boto3                                             \n",
    "sm_client = boto3.client('secretsmanager')\n",
    "master_user = sm_client.get_secret_value(SecretId='opensearch-master-user')['SecretString']\n",
    "data= json.loads(master_user)\n",
    "username = data.get('username')\n",
    "password = data.get('password')\n"
   ]
  },
  {
   "cell_type": "code",
   "execution_count": 3,
   "id": "1c1833d1",
   "metadata": {},
   "outputs": [
    {
     "name": "stderr",
     "output_type": "stream",
     "text": [
      "Load the file: 0it [00:00, ?it/s]\n"
     ]
    },
    {
     "name": "stdout",
     "output_type": "stream",
     "text": [
      "None of the files loaded successfully, please check the file to upload again.\n",
      "File import takes time: 0:00:00.004148\n",
      "Complete the import of the following documents: []\n",
      "begin to load /home/ec2-user/SageMaker/guidance-for-custom-search-of-an-enterprise-knowledge-base-on-aws/docs/english_docs/aws_faq__en_Elastic_Transcoder_faqs_ .csv file\n",
      "begin load and split\n",
      "aws_faq__en_Elastic_Transcoder_faqs_ .csv Loaded successfully\n",
      "The file is loaded and the vector library is being generated\n",
      "language11: english\n",
      "finish embedding, text len: 77 77\n",
      "File import takes time: 0:00:13.729214\n",
      "Complete the import of the following documents: ['/home/ec2-user/SageMaker/guidance-for-custom-search-of-an-enterprise-knowledge-base-on-aws/docs/english_docs/aws_faq__en_Elastic_Transcoder_faqs_ .csv']\n"
     ]
    }
   ],
   "source": [
    "# if language == \"english\":\n",
    "#     import nltk\n",
    "#     nltk.download('punkt')\n",
    "\n",
    "search_qa_dataload = SmartSearchDataload()\n",
    "search_qa_dataload.init_cfg(index,\n",
    "                 username,\n",
    "                 password,\n",
    "                 host,\n",
    "                 port,\n",
    "                 EMBEDDING_ENDPOINT_NAME,\n",
    "                 region,\n",
    "                 language=language\n",
    "                 )\n",
    "\n",
    "# local_path = \"../test_file/\"\n",
    "local_path = \"/home/ec2-user/SageMaker/guidance-for-custom-search-of-an-enterprise-knowledge-base-on-aws/docs/english_docs/\"\n",
    "\n",
    "files = os.listdir(local_path)\n",
    "for file in files:\n",
    "    local_file = local_path+file\n",
    "    now1 = datetime.now()#begin time\n",
    "    loaded_files = search_qa_dataload.init_knowledge_vector(local_file,bulk_size)\n",
    "    now2 = datetime.now()#endtime\n",
    "    print(\"File import takes time:\",now2-now1)\n",
    "    print(\"Complete the import of the following documents:\", str(loaded_files))\n",
    "\n"
   ]
  },
  {
   "cell_type": "code",
   "execution_count": null,
   "id": "2c648694",
   "metadata": {},
   "outputs": [],
   "source": []
  }
 ],
 "metadata": {
  "kernelspec": {
   "display_name": "conda_pytorch_p39",
   "language": "python",
   "name": "conda_pytorch_p39"
  },
  "language_info": {
   "codemirror_mode": {
    "name": "ipython",
    "version": 3
   },
   "file_extension": ".py",
   "mimetype": "text/x-python",
   "name": "python",
   "nbconvert_exporter": "python",
   "pygments_lexer": "ipython3",
   "version": "3.9.15"
  }
 },
 "nbformat": 4,
 "nbformat_minor": 5
}
