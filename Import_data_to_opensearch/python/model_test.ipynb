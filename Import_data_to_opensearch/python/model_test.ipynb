{
 "cells": [
  {
   "cell_type": "code",
   "execution_count": 3,
   "id": "f2fa6ac0",
   "metadata": {},
   "outputs": [
    {
     "name": "stdout",
     "output_type": "stream",
     "text": [
      "finish init search_qa\n"
     ]
    }
   ],
   "source": [
    "import os\n",
    "import json\n",
    "import traceback\n",
    "import urllib.parse\n",
    "import boto3\n",
    "from datetime import datetime\n",
    "import time\n",
    "from smart_search import SmartSearchQA\n",
    "\n",
    "EMBEDDING_ENDPOINT_NAME = \"pytorch-inference-all-minilm-v6-l2\"\n",
    "#EMBEDDING_ENDPOINT_NAME = \"huggingface-inference-text2vec-base-chinese-v1\"\n",
    "LLM_ENDPOINT_NAME = \"pytorch-inference-vicuna-v1-1-b\"\n",
    "\n",
    "index =  \"smart_search_qa_test_0522_2\"\n",
    "host =  \"search-smartsearch-5xgqh6z5jl2y5uszqwlr7nbyxe.us-west-2.es.amazonaws.com\"\n",
    "region = \"us-west-2\"\n",
    "\n",
    "port = 443\n",
    "\n",
    "top_k = 3\n",
    "chinese_prompt_template = \"\"\"给定一个长文档和一个问题的以下提取部分，如果你不知道答案，就说你不知道，不要试图编造答案，用中文回答。\n",
    "\n",
    "            问题: {question}\n",
    "            =========\n",
    "            {context}\n",
    "            =========\n",
    "            答案:\"\"\"\n",
    "\n",
    "english_prompt_template = \"\"\"Use the following pieces of context to answer the question at the end. If you don't know the answer, just say that you don't know, don't try to make up an answer.\n",
    "\n",
    "{context}\n",
    "\n",
    "Question: {question}\n",
    "Answer:\"\"\"\n",
    "\n",
    "# retrieve secret manager value by key using boto3                                             \n",
    "sm_client = boto3.client('secretsmanager')\n",
    "master_user = sm_client.get_secret_value(SecretId='opensearch-master-user')['SecretString']\n",
    "data= json.loads(master_user)\n",
    "username = data.get('username')\n",
    "password = data.get('password')\n",
    "\n",
    "search_qa = SmartSearchQA()\n",
    "search_qa.init_cfg(index,\n",
    "                 username,\n",
    "                 password,\n",
    "                 host,\n",
    "                 port,\n",
    "                 EMBEDDING_ENDPOINT_NAME,\n",
    "                 region,\n",
    "                 LLM_ENDPOINT_NAME\n",
    "                 )\n",
    "print(\"finish init search_qa\")"
   ]
  },
  {
   "cell_type": "code",
   "execution_count": 7,
   "id": "dd38d5ba",
   "metadata": {},
   "outputs": [
    {
     "name": "stdout",
     "output_type": "stream",
     "text": [
      "answer: 给定一个长文档和一个问题的以下提取部分，如果你不知道答案，就说你不知道，不要试图编造答案，用中文回答。\n",
      "\n",
      "            问题: 搜索的效果如何评估\n",
      "            =========\n",
      "            Context:\n",
      "\n",
      "\n",
      "\n",
      "\n",
      "这是产品的技术框图。,从下到上包含了地址知识图谱的构建，以及地址预训练语言模型，包括基于搜索引擎的框架串接整个链路。,上述提到的基准能力，以 API 的方式提供出来包装成行业方案。\n",
      "\n",
      "Context:\n",
      "赋能的很多行业场景都是搜索。,\n",
      "\n",
      "2. 行业搜索本质\n",
      "\n",
      "\n",
      "\n",
      "面向产业和消费互联网的搜索本质都是一样的：用户有信息获取需求，同时有信息资源库，通过搜索引擎把两者桥接起来。,以电商场景来举例说明。\n",
      "\n",
      "Context:\n",
      "随着算力的增长，复杂模型开始往前置换。,比如说精排的模型，现在慢慢会下沉到粗排、甚至召回这个阶段。,\n",
      "\n",
      "\n",
      "\n",
      "\n",
      "\n",
      "搜索效果评估：\n",
      "\n",
      "召回：recall 或无结果率\n",
      "\n",
      "排序：相关性、转化效率（贴近业务）\n",
      "\n",
      "相关性：NDCG、MRR\n",
      "\n",
      "转化效率：点击率、转化率\n",
      "\n",
      "4. 消费互联网和产业互联网的搜索\n",
      "\n",
      "\n",
      "\n",
      "搜索在不同行业场景里区别是很大的，在此把它分为消费互联网搜索与产业互联网搜索\n",
      "\n",
      "用户群体和 UV：消费互联网搜索 UV 非常大，产业互联网面向政企内部的员工；\n",
      "\n",
      "搜索追求指标：消费互联网，除了追求搜得到、搜得准之外，还追求转化率高。\n",
      "            =========\n",
      "            答案: 没有答案，因为问题没有给出具体的答案，只能亲自回答。\n"
     ]
    }
   ],
   "source": [
    "#query=\"What did the president say about Justice Breyer\"\n",
    "#response = search_qa.get_answer_from_RetrievalQA(query,english_prompt_template,top_k)\n",
    "\n",
    "query=\"搜索的效果如何评估\"\n",
    "response = search_qa.get_answer_from_RetrievalQA(query,chinese_prompt_template,top_k)\n",
    "\n",
    "source = response[\"source_documents\"]\n",
    "answer = response[\"result\"]\n",
    "#print(\"source:\",source)\n",
    "print(\"answer:\",answer)"
   ]
  },
  {
   "cell_type": "code",
   "execution_count": null,
   "id": "5e9959e1",
   "metadata": {},
   "outputs": [],
   "source": []
  }
 ],
 "metadata": {
  "kernelspec": {
   "display_name": "conda_pytorch_p39",
   "language": "python",
   "name": "conda_pytorch_p39"
  },
  "language_info": {
   "codemirror_mode": {
    "name": "ipython",
    "version": 3
   },
   "file_extension": ".py",
   "mimetype": "text/x-python",
   "name": "python",
   "nbconvert_exporter": "python",
   "pygments_lexer": "ipython3",
   "version": "3.9.15"
  }
 },
 "nbformat": 4,
 "nbformat_minor": 5
}
