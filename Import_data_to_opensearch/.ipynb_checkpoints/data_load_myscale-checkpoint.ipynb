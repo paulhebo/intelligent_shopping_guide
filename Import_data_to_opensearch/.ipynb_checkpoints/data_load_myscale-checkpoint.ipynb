{
 "cells": [
  {
   "cell_type": "code",
   "execution_count": null,
   "id": "5912e74d-d6a0-42b4-918e-2519cd3b1e4f",
   "metadata": {
    "tags": []
   },
   "outputs": [],
   "source": [
    "!pip install --upgrade clickhouse-connect --target ./python\n",
    "!pip install --upgrade numpy --target ./python\n",
    "!pip install --upgrade numexpr --target ./python"
   ]
  },
  {
   "cell_type": "code",
   "execution_count": null,
   "id": "602d8ec8-923d-48a5-a2ba-f41e2cf77c48",
   "metadata": {
    "tags": []
   },
   "outputs": [],
   "source": [
    "import os\n",
    "\n",
    "os.environ[\"MYSCALE_HOST\"] = ''\n",
    "os.environ[\"MYSCALE_PORT\"] = ''\n",
    "os.environ[\"MYSCALE_USERNAME\"] = ''\n",
    "os.environ[\"MYSCALE_PASSWORD\"] = ''"
   ]
  },
  {
   "cell_type": "code",
   "execution_count": null,
   "id": "42f32a8c-cb7d-4941-9749-5a97328a5764",
   "metadata": {
    "tags": []
   },
   "outputs": [],
   "source": [
    "import sys\n",
    "sys.path.append(r\"./python\")\n",
    "\n",
    "from langchain.schema import Document\n",
    "from langchain.vectorstores import MyScale\n",
    "from model import init_embeddings\n",
    "from langchain.retrievers.self_query.base import SelfQueryRetriever\n",
    "from langchain.chains.query_constructor.base import AttributeInfo\n",
    "\n",
    "embedding_endpoint_name = ''\n",
    "region = ''\n",
    "LANGUAGE = 'english'\n",
    "embeddings = init_embeddings(embedding_endpoint_name,region,language= LANGUAGE)\n",
    "vectorstore = MyScale(embeddings)"
   ]
  },
  {
   "cell_type": "code",
   "execution_count": null,
   "id": "8d6562b7-74b1-4e50-a638-a1391f6fd003",
   "metadata": {
    "tags": []
   },
   "outputs": [],
   "source": [
    "import csv\n",
    "docs = []\n",
    "texts = []\n",
    "metadatas = []\n",
    "file_path = ''\n",
    "\n",
    "csvfile=open(file_path,mode='r',encoding='utf-8')\n",
    "reader = [each for each in csv.DictReader(csvfile, delimiter=',')]\n",
    "\n",
    "product_list = []\n",
    "metadatas = []\n",
    "for line in reader:\n",
    "    # print('line:',line)\n",
    "    product_info = ''\n",
    "    metadata = {}\n",
    "    for key in line.keys():\n",
    "        key = key.replace('(Full)','').replace(' (mm)')\n",
    "        product_info += (key+':'+line[key]+',')\n",
    "        if key != 'Watch Description':\n",
    "            metadata[key]=line[key]\n",
    "    metadatas.append(metadata)\n",
    "    product_list.append(product_info)\n",
    "\n",
    "print(product_list)\n",
    "print(metadatas)"
   ]
  },
  {
   "cell_type": "code",
   "execution_count": null,
   "id": "01568124-1ad9-428b-9f39-a2d978cdf353",
   "metadata": {},
   "outputs": [],
   "source": [
    "print('begin to save in vectore store')\n",
    "vectorstore.add_texts(\n",
    "    texts=product_list,\n",
    "    metadatas=metadatas,\n",
    "    bulk_size=10000,\n",
    "    batch_size=100\n",
    ")\n",
    "print('finish save in vectore store')"
   ]
  }
 ],
 "metadata": {
  "kernelspec": {
   "display_name": "conda_pytorch_p310",
   "language": "python",
   "name": "conda_pytorch_p310"
  },
  "language_info": {
   "codemirror_mode": {
    "name": "ipython",
    "version": 3
   },
   "file_extension": ".py",
   "mimetype": "text/x-python",
   "name": "python",
   "nbconvert_exporter": "python",
   "pygments_lexer": "ipython3",
   "version": "3.10.13"
  }
 },
 "nbformat": 4,
 "nbformat_minor": 5
}
